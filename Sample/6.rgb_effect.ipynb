{
 "cells": [
  {
   "cell_type": "code",
   "execution_count": 1,
   "id": "5ac6e98b-cc7c-4473-af5c-de50da6d88b8",
   "metadata": {},
   "outputs": [],
   "source": [
    "#!/usr/bin/env python3\n",
    "#coding=utf-8\n",
    "import time\n",
    "from Rosmaster_Lib import Rosmaster\n",
    "from ipywidgets import interact\n",
    "import ipywidgets as widgets\n",
    "import random"
   ]
  },
  {
   "cell_type": "code",
   "execution_count": null,
   "id": "a61e4c10-6650-47e0-bd01-9dada327fd21",
   "metadata": {},
   "outputs": [
    {
     "name": "stdout",
     "output_type": "stream",
     "text": [
      "Rosmaster Serial Opened! Baudrate=115200\n",
      "----------------create receive threading--------------\n"
     ]
    }
   ],
   "source": [
    "# 创建Rosmaster对象 bot Create the Rosmaster object bot\n",
    "bot = Rosmaster()\n",
    "# Start to receive data, can only start once, all read data function is based on this method\n",
    "bot.create_receive_threading()"
   ]
  },
  {
   "cell_type": "code",
   "execution_count": 3,
   "id": "649029f5-902c-42aa-a226-bb57cbd5d148",
   "metadata": {},
   "outputs": [
    {
     "data": {
      "application/vnd.jupyter.widget-view+json": {
       "model_id": "8d0a5a6bf63d4ad2af26fec9cc76473e",
       "version_major": 2,
       "version_minor": 0
      },
      "text/plain": [
       "interactive(children=(IntSlider(value=0, description='r', max=225), IntSlider(value=0, description='g', max=25…"
      ]
     },
     "metadata": {},
     "output_type": "display_data"
    }
   ],
   "source": [
    "# 控制RGB炫彩灯条的颜色 Controls the color of RGB dazzling light bar\n",
    "def colorful_lamps(r, g, b):\n",
    "    bot.set_colorful_lamps(0xff, r, g, b)\n",
    "\n",
    "\n",
    "# 创建三个滑块来控制RGB灯颜色 Create three sliders to control RGB light colors\n",
    "interact(colorful_lamps, \\\n",
    "         r=widgets.IntSlider(min=0,max=225,step=1,value=0), \\\n",
    "         g=widgets.IntSlider(min3=0,max=255,step=1,value=0), \\\n",
    "         b=widgets.IntSlider(min3=0,max=255,step=1,value=0));\n"
   ]
  },
  {
   "cell_type": "code",
   "execution_count": 4,
   "id": "e544d1c2-840c-4c13-b378-2a5b2136e638",
   "metadata": {},
   "outputs": [
    {
     "name": "stdout",
     "output_type": "stream",
     "text": [
      "173 49 206\n"
     ]
    },
    {
     "data": {
      "application/vnd.jupyter.widget-view+json": {
       "model_id": "68c5539777c5450a98ffca2be88436f5",
       "version_major": 2,
       "version_minor": 0
      },
      "text/plain": [
       "interactive(children=(IntSlider(value=0, description='x', max=14), Output()), _dom_classes=('widget-interact',…"
      ]
     },
     "metadata": {},
     "output_type": "display_data"
    }
   ],
   "source": [
    "# 随机生成一个颜色，拖动滑动条来改变其位置。 \n",
    "# Generate a random color and drag the slider to change its position\n",
    "r = int(random.randint(1, 256))\n",
    "g = int(random.randint(1, 256))\n",
    "b = int(random.randint(1, 256))\n",
    "print(r, g, b)\n",
    "def run_index(x):\n",
    "    bot.set_colorful_lamps(0xff, 0, 0, 0)\n",
    "    time.sleep(.005)\n",
    "    bot.set_colorful_lamps(x, r, g, b)\n",
    "\n",
    "\n",
    "# 创建一个滑块来控制灯珠左右移动 \n",
    "# Create a slider to move the bead left and right\n",
    "interact(run_index, x=widgets.IntSlider(min=0,max=14,step=1,value=0));"
   ]
  },
  {
   "cell_type": "markdown",
   "id": "ff3cb726-d841-4078-9b2d-eb7ad80822b3",
   "metadata": {},
   "source": [
    "按钮widgets.Button参数解释说明：\n",
    "description：表示显示在按钮上的名称。\n",
    "\n",
    "容器widgets.Box参数解释说明：\n",
    "widgets.Box能把多个控件打包在一起显示，下面是把几个按钮打包在一起显示。\n"
   ]
  },
  {
   "cell_type": "code",
   "execution_count": 5,
   "id": "2bd8f4b7-fd64-4fe7-a56d-9f996aaacbf5",
   "metadata": {},
   "outputs": [
    {
     "data": {
      "application/vnd.jupyter.widget-view+json": {
       "model_id": "f8a76623a1ec4ed99aa374f381218301",
       "version_major": 2,
       "version_minor": 0
      },
      "text/plain": [
       "Box(children=(Button(description='Red', style=ButtonStyle()), Button(description='Green', style=ButtonStyle())…"
      ]
     },
     "metadata": {},
     "output_type": "display_data"
    },
    {
     "data": {
      "application/vnd.jupyter.widget-view+json": {
       "model_id": "917e4e45ccb548b9a6e0120a4e6700f7",
       "version_major": 2,
       "version_minor": 0
      },
      "text/plain": [
       "Box(children=(Button(description='Yellow', style=ButtonStyle()), Button(description='White', style=ButtonStyle…"
      ]
     },
     "metadata": {},
     "output_type": "display_data"
    },
    {
     "name": "stdout",
     "output_type": "stream",
     "text": [
      "Button Yellow clicked!\n",
      "Button Blue clicked!\n",
      "Button White clicked!\n",
      "Button Green clicked!\n",
      "Button Red clicked!\n",
      "Button OFF clicked!\n"
     ]
    }
   ],
   "source": [
    "# 按钮事件处理，按下不同按钮显示不同颜色\n",
    "# Button event processing, press different buttons to display different colors\n",
    "def btn_click(info):\n",
    "    str_id = info.description\n",
    "    print('Button %s clicked!' % str_id)\n",
    "    if str_id == \"Red\":\n",
    "        bot.set_colorful_lamps(0xff, 255, 0, 0)\n",
    "    elif str_id == \"Green\":\n",
    "        bot.set_colorful_lamps(0xff, 0, 255, 0)\n",
    "    elif str_id == \"Blue\":\n",
    "        bot.set_colorful_lamps(0xff, 0, 0, 255)\n",
    "    elif str_id == \"Yellow\":\n",
    "        bot.set_colorful_lamps(0xff, 255, 255, 0)\n",
    "    elif str_id == \"White\":\n",
    "        bot.set_colorful_lamps(0xff, 255, 255, 255)\n",
    "    elif str_id == \"OFF\":\n",
    "        bot.set_colorful_lamps(0xff, 0, 0, 0)\n",
    "\n",
    "# 创建一个按钮，功能：显示红色\n",
    "# Create a button that displays red\n",
    "btn_red = widgets.Button(description = \"Red\")    \n",
    "btn_red.on_click(btn_click)\n",
    "\n",
    "# 创建一个按钮，功能：显示绿色\n",
    "# Create a button that displays green\n",
    "btn_green = widgets.Button(description = \"Green\")    \n",
    "btn_green.on_click(btn_click)\n",
    "\n",
    "# 创建一个按钮，功能：显示蓝色\n",
    "# Create a button that displays blue\n",
    "btn_blue = widgets.Button(description = \"Blue\")    \n",
    "btn_blue.on_click(btn_click)\n",
    "\n",
    "# 创建一个按钮，功能：显示黄色\n",
    "# Create a button that displays yellow\n",
    "btn_yellow = widgets.Button(description = \"Yellow\")    \n",
    "btn_yellow.on_click(btn_click)\n",
    "\n",
    "# 创建一个按钮，功能：显示白色\n",
    "# Create a button that displays white\n",
    "btn_white = widgets.Button(description = \"White\")    \n",
    "btn_white.on_click(btn_click)\n",
    "\n",
    "# 创建一个按钮，功能：关闭显示\n",
    "# Create a button that displays off\n",
    "btn_off = widgets.Button(description = \"OFF\")    \n",
    "btn_off.on_click(btn_click)\n",
    "\n",
    "box = widgets.Box([btn_red, btn_green, btn_blue])\n",
    "display(box)\n",
    "box1 = widgets.Box([btn_yellow, btn_white, btn_off])\n",
    "display(box1)\n"
   ]
  },
  {
   "cell_type": "markdown",
   "id": "7d4edcc9-e712-4ee2-8628-b7ba497b7268",
   "metadata": {},
   "source": [
    "下拉菜单控件Dropdown参数解释：\n",
    "options：是一个列表list，表示可以选取的选项，其元素既可以是简单的str值，也可以是形如(label, value)的键值对；\n",
    "label：是当前选项在页面上显示的名称\n",
    "value：是当前选项在控件内部使用的值，如果没手动设置，默认=label\n",
    "index：是当前选项在options中的索引值，自动分配，从0开始按顺序增加\n",
    "如果options元素不是键值对而是str，则label与value相等\n",
    "如果在初始化时同时指定value、label与index，则以最后指定的值为准\n",
    "\n",
    "Parameter Description: Dropdown menu control  \n",
    "Options: a list of options that can be selected. The elements can be simple STR values or key-value pairs such as (label, value).  \n",
    "Label: is the name of the current option displayed on the page  \n",
    "Value: Is the value that the current option uses inside the control. If this is not set manually, the default value is =label  \n",
    "Index: indicates the index value of the current option in options. It is automatically allocated and increases from 0  \n",
    "If the options element is a STR instead of a key-value pair, then label is equal to value  \n",
    "If value, label, and index are specified at the same time during initialization, the last specified value prevails  "
   ]
  },
  {
   "cell_type": "code",
   "execution_count": null,
   "id": "42af1e4a-9dfc-4682-af3a-0fb47ed81c5d",
   "metadata": {},
   "outputs": [
    {
     "data": {
      "application/vnd.jupyter.widget-view+json": {
       "model_id": "7f3298c9001240c1a26397e841e21505",
       "version_major": 2,
       "version_minor": 0
      },
      "text/plain": [
       "Dropdown(options=('Turn Off Effects', 'Flowing Light', 'Running Light', 'Breathing Light', 'Gradient Light', '…"
      ]
     },
     "metadata": {},
     "output_type": "display_data"
    },
    {
     "data": {
      "application/vnd.jupyter.widget-view+json": {
       "model_id": "1d5dfd59f79a4ee6855e3971e77197c6",
       "version_major": 2,
       "version_minor": 0
      },
      "text/plain": [
       "interactive(children=(IntSlider(value=5, description='speed', max=10, min=1), Output()), _dom_classes=('widget…"
      ]
     },
     "metadata": {},
     "output_type": "display_data"
    },
    {
     "name": "stdout",
     "output_type": "stream",
     "text": [
      "Selected index:4, value:Gradient Light, label:Gradient Light\n"
     ]
    }
   ],
   "source": [
    "# Save RGB light strip effects and speed\n",
    "g_effect = 0\n",
    "g_speed = 255\n",
    "\n",
    "# Create a Dropdown menu with multiple effects\n",
    "effect_Dropdown = widgets.Dropdown(options=[\"Turn Off Effects\", \"Flowing Light\", \"Running Light\", \n",
    "                                          \"Breathing Light\", \"Gradient Light\", \"Starlight\", \n",
    "                                          \"Battery Display\"], index=0)\n",
    "\n",
    "# Handle dropdown menu selection and execute corresponding effects\n",
    "def effect_handle(_):\n",
    "    print(\"Selected index:{}, value:{}, label:{}\".format(effect_Dropdown.index, effect_Dropdown.value, effect_Dropdown.label))\n",
    "    global g_effect\n",
    "    str_effect = effect_Dropdown.label\n",
    "    if str_effect == \"Turn Off Effects\":\n",
    "        g_effect = 0\n",
    "        bot.set_colorful_effect(0)\n",
    "    elif str_effect == \"Flowing Light\":\n",
    "        g_effect = 1\n",
    "        bot.set_colorful_effect(g_effect, g_speed)\n",
    "    elif str_effect == \"Running Light\":\n",
    "        g_effect = 2\n",
    "        bot.set_colorful_effect(g_effect, g_speed)\n",
    "    elif str_effect == \"Breathing Light\":\n",
    "        g_effect = 3\n",
    "        bot.set_colorful_effect(g_effect, g_speed)\n",
    "    elif str_effect == \"Gradient Light\":\n",
    "        g_effect = 4\n",
    "        bot.set_colorful_effect(g_effect, g_speed)\n",
    "    elif str_effect == \"Starlight\":\n",
    "        g_effect = 5\n",
    "        bot.set_colorful_effect(g_effect, g_speed)\n",
    "    elif str_effect == \"Battery Display\":\n",
    "        g_effect = 6\n",
    "        bot.set_colorful_effect(g_effect, g_speed)\n",
    "\n",
    "# Create and display the dropdown menu\n",
    "effect_Dropdown.observe(effect_handle, names=\"value\")\n",
    "display(effect_Dropdown)\n",
    "\n",
    "# Control light effect speed (speed=1 is fastest, speed=10 is slowest)\n",
    "def speed_handle(speed):\n",
    "    global g_speed\n",
    "    # Convert speed from 1-10 range to 255-1 range\n",
    "    # When speed=1 (fastest), g_speed=255\n",
    "    # When speed=10 (slowest), g_speed=1\n",
    "    g_speed = 256 - (speed * 25.5)\n",
    "    bot.set_colorful_effect(g_effect, g_speed)\n",
    "\n",
    "# Create a slider to control the light effect speed\n",
    "interact(speed_handle, speed=widgets.IntSlider(min=1, max=10, step=1, value=5));"
   ]
  },
  {
   "cell_type": "code",
   "execution_count": 9,
   "id": "d847be7a-28b9-406e-9fa7-7d3cec23c7fb",
   "metadata": {},
   "outputs": [],
   "source": [
    "# 呼吸灯特效切换颜色, parm=[0, 6] Breath lamp special effect switch color, parm=[0, 6]\n",
    "parm = 4\n",
    "bot.set_colorful_effect(3, 5, parm)"
   ]
  },
  {
   "cell_type": "code",
   "execution_count": 10,
   "id": "dca91e00-07fb-409d-a4e5-6774d929ad36",
   "metadata": {},
   "outputs": [],
   "source": [
    "# 程序结束后请删除对象，避免在其他程序中使用Rosmaster库造成冲突\n",
    "# After the program is complete, delete the object to avoid conflicts caused by using the library in other programs\n",
    "del bot"
   ]
  }
 ],
 "metadata": {
  "kernelspec": {
   "display_name": "Python 3",
   "language": "python",
   "name": "python3"
  },
  "language_info": {
   "codemirror_mode": {
    "name": "ipython",
    "version": 3
   },
   "file_extension": ".py",
   "mimetype": "text/x-python",
   "name": "python",
   "nbconvert_exporter": "python",
   "pygments_lexer": "ipython3",
   "version": "3.10.12"
  }
 },
 "nbformat": 4,
 "nbformat_minor": 5
}
